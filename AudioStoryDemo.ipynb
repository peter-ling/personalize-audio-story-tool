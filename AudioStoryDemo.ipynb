{
 "cells": [
  {
   "cell_type": "code",
   "execution_count": 35,
   "metadata": {},
   "outputs": [],
   "source": [
    "from openai import OpenAI\n",
    "client = OpenAI()\n",
    "from pydub import AudioSegment\n",
    "\n",
    "import simpleaudio.functionchecks as fc\n",
    "from pydub.playback import play\n",
    "from collections import defaultdict"
   ]
  },
  {
   "cell_type": "code",
   "execution_count": 36,
   "metadata": {},
   "outputs": [
    {
     "name": "stdout",
     "output_type": "stream",
     "text": [
      "Transcription(text='And now a word from our sponsors. Peter, do you ever find yourself tired after a long day of class? Wanna pick me up to get you through your day? Look no further than Koopa Cafe outside Green Library. This student favorite is a Stanford staple and provides everything you need from breakfast wraps to a warm tiger spice chai. Stop by today for a sweet treat. Thanks for listening, Peter. And now back to the podcast.', task='transcribe', language='english', duration=26.149999618530273, words=[{'word': 'And', 'start': 0.0, 'end': 0.36000001430511475}, {'word': 'now', 'start': 0.36000001430511475, 'end': 0.5600000023841858}, {'word': 'a', 'start': 0.5600000023841858, 'end': 0.8799999952316284}, {'word': 'word', 'start': 0.8799999952316284, 'end': 0.8799999952316284}, {'word': 'from', 'start': 0.8799999952316284, 'end': 1.0800000429153442}, {'word': 'our', 'start': 1.0800000429153442, 'end': 1.3799999952316284}, {'word': 'sponsors', 'start': 1.3799999952316284, 'end': 1.7799999713897705}, {'word': 'Peter', 'start': 2.6600000858306885, 'end': 2.6600000858306885}, {'word': 'do', 'start': 2.799999952316284, 'end': 3.200000047683716}, {'word': 'you', 'start': 3.200000047683716, 'end': 3.319999933242798}, {'word': 'ever', 'start': 3.319999933242798, 'end': 3.5}, {'word': 'find', 'start': 3.5, 'end': 3.700000047683716}, {'word': 'yourself', 'start': 3.700000047683716, 'end': 3.9800000190734863}, {'word': 'tired', 'start': 3.9800000190734863, 'end': 4.380000114440918}, {'word': 'after', 'start': 4.380000114440918, 'end': 4.619999885559082}, {'word': 'a', 'start': 4.619999885559082, 'end': 4.940000057220459}, {'word': 'long', 'start': 4.940000057220459, 'end': 4.940000057220459}, {'word': 'day', 'start': 4.940000057220459, 'end': 5.079999923706055}, {'word': 'of', 'start': 5.079999923706055, 'end': 5.539999961853027}, {'word': 'class', 'start': 5.539999961853027, 'end': 5.539999961853027}, {'word': 'Wanna', 'start': 6.099999904632568, 'end': 6.300000190734863}, {'word': 'pick', 'start': 6.300000190734863, 'end': 6.5}, {'word': 'me', 'start': 6.5, 'end': 6.699999809265137}, {'word': 'up', 'start': 6.699999809265137, 'end': 6.820000171661377}, {'word': 'to', 'start': 6.820000171661377, 'end': 6.960000038146973}, {'word': 'get', 'start': 6.960000038146973, 'end': 7.099999904632568}, {'word': 'you', 'start': 7.099999904632568, 'end': 7.300000190734863}, {'word': 'through', 'start': 7.300000190734863, 'end': 7.440000057220459}, {'word': 'your', 'start': 7.440000057220459, 'end': 7.639999866485596}, {'word': 'day', 'start': 7.639999866485596, 'end': 7.920000076293945}, {'word': 'Look', 'start': 8.260000228881836, 'end': 8.399999618530273}, {'word': 'no', 'start': 8.399999618530273, 'end': 8.800000190734863}, {'word': 'further', 'start': 8.800000190734863, 'end': 9.0600004196167}, {'word': 'than', 'start': 9.0600004196167, 'end': 9.579999923706055}, {'word': 'Koopa', 'start': 9.579999923706055, 'end': 9.720000267028809}, {'word': 'Cafe', 'start': 9.720000267028809, 'end': 10.199999809265137}, {'word': 'outside', 'start': 10.199999809265137, 'end': 10.619999885559082}, {'word': 'Green', 'start': 10.619999885559082, 'end': 11.0}, {'word': 'Library', 'start': 11.0, 'end': 11.380000114440918}, {'word': 'This', 'start': 11.84000015258789, 'end': 12.039999961853027}, {'word': 'student', 'start': 12.039999961853027, 'end': 12.84000015258789}, {'word': 'favorite', 'start': 12.84000015258789, 'end': 13.319999694824219}, {'word': 'is', 'start': 13.319999694824219, 'end': 13.619999885559082}, {'word': 'a', 'start': 13.619999885559082, 'end': 14.420000076293945}, {'word': 'Stanford', 'start': 14.420000076293945, 'end': 14.420000076293945}, {'word': 'staple', 'start': 14.420000076293945, 'end': 15.039999961853027}, {'word': 'and', 'start': 15.039999961853027, 'end': 15.380000114440918}, {'word': 'provides', 'start': 15.380000114440918, 'end': 15.619999885559082}, {'word': 'everything', 'start': 15.619999885559082, 'end': 15.960000038146973}, {'word': 'you', 'start': 15.960000038146973, 'end': 16.18000030517578}, {'word': 'need', 'start': 16.18000030517578, 'end': 16.280000686645508}, {'word': 'from', 'start': 16.280000686645508, 'end': 16.479999542236328}, {'word': 'breakfast', 'start': 16.479999542236328, 'end': 16.81999969482422}, {'word': 'wraps', 'start': 16.81999969482422, 'end': 17.100000381469727}, {'word': 'to', 'start': 17.100000381469727, 'end': 17.31999969482422}, {'word': 'a', 'start': 17.31999969482422, 'end': 17.700000762939453}, {'word': 'warm', 'start': 17.700000762939453, 'end': 17.920000076293945}, {'word': 'tiger', 'start': 17.920000076293945, 'end': 18.559999465942383}, {'word': 'spice', 'start': 18.559999465942383, 'end': 19.219999313354492}, {'word': 'chai', 'start': 19.219999313354492, 'end': 19.700000762939453}, {'word': 'Stop', 'start': 20.479999542236328, 'end': 20.5}, {'word': 'by', 'start': 20.5, 'end': 20.860000610351562}, {'word': 'today', 'start': 20.860000610351562, 'end': 21.1200008392334}, {'word': 'for', 'start': 21.1200008392334, 'end': 21.31999969482422}, {'word': 'a', 'start': 21.31999969482422, 'end': 21.65999984741211}, {'word': 'sweet', 'start': 21.65999984741211, 'end': 21.84000015258789}, {'word': 'treat', 'start': 21.84000015258789, 'end': 22.459999084472656}, {'word': 'Thanks', 'start': 23.34000015258789, 'end': 23.440000534057617}, {'word': 'for', 'start': 23.440000534057617, 'end': 23.68000030517578}, {'word': 'listening', 'start': 23.68000030517578, 'end': 23.920000076293945}, {'word': 'Peter', 'start': 24.219999313354492, 'end': 24.219999313354492}, {'word': 'And', 'start': 24.34000015258789, 'end': 24.799999237060547}, {'word': 'now', 'start': 24.799999237060547, 'end': 25.020000457763672}, {'word': 'back', 'start': 25.020000457763672, 'end': 25.18000030517578}, {'word': 'to', 'start': 25.18000030517578, 'end': 25.31999969482422}, {'word': 'the', 'start': 25.31999969482422, 'end': 25.860000610351562}, {'word': 'podcast', 'start': 25.860000610351562, 'end': 25.8799991607666}])\n"
     ]
    }
   ],
   "source": [
    "audio_file_advertisement = open(\"advertisement_steve.wav\", \"rb\")\n",
    "\n",
    "# script1 = open(\"script1_steve.m4a\", \"rb\")\n",
    "advertisement_transcript = client.audio.transcriptions.create(\n",
    "  file=audio_file_advertisement,\n",
    "  model=\"whisper-1\",\n",
    "  response_format=\"verbose_json\",\n",
    "  timestamp_granularities=[\"word\"]\n",
    ")\n",
    "\n",
    "print(advertisement_transcript)\n",
    "\n"
   ]
  },
  {
   "cell_type": "code",
   "execution_count": 37,
   "metadata": {},
   "outputs": [
    {
     "name": "stdout",
     "output_type": "stream",
     "text": [
      "[[2660.0000858306885, 2660.0000858306885], [24219.999313354492, 24219.999313354492]]\n",
      "[[2410.0000858306885, 2785.0000858306885], [23969.999313354492, 24219.999313354492]]\n"
     ]
    }
   ],
   "source": [
    "SAMPLE_NAME = \"Peter\"\n",
    "\n",
    "advertisement_times_to_replace = []\n",
    "\n",
    "for word in advertisement_transcript.words: \n",
    "    if str.lower(word[\"word\"]) == str.lower(SAMPLE_NAME): \n",
    "        advertisement_times_to_replace.append([word[\"start\"] * 1000, word[\"end\"] * 1000])\n",
    "\n",
    "\n",
    "print(advertisement_times_to_replace)\n",
    "advertisement_times_to_replace[0][0] -= 250\n",
    "advertisement_times_to_replace[0][1] += 125\n",
    "\n",
    "advertisement_times_to_replace[1][0] -= 250\n",
    "\n",
    "advertisement_audio_raw = AudioSegment.from_wav(\"advertisement_steve.wav\")\n",
    "print(advertisement_times_to_replace)\n",
    "\n",
    "\n",
    "# advertisement_times_to_replace = [[2410.0000858306885, 2785.0000858306885], [23969.999313354492, 24219.999313354492]]"
   ]
  },
  {
   "cell_type": "code",
   "execution_count": 38,
   "metadata": {},
   "outputs": [
    {
     "name": "stdout",
     "output_type": "stream",
     "text": [
      "[<pydub.audio_segment.AudioSegment object at 0x7fd1c83ab460>, 'NAME', <pydub.audio_segment.AudioSegment object at 0x7fd1c83ab190>, 'NAME', <pydub.audio_segment.AudioSegment object at 0x7fd1c83ab340>]\n"
     ]
    }
   ],
   "source": [
    "# play(advertisement_audio_raw)\n",
    "\n",
    "advertisement_audio_slices = []\n",
    "\n",
    "audio_left = advertisement_audio_raw\n",
    "\n",
    "prev_end = 0 # where the last one left off \n",
    "\n",
    "for times in advertisement_times_to_replace:\n",
    "    lower_bound = times[0]\n",
    "    upper_bound = times[1]\n",
    "\n",
    "    before_name = advertisement_audio_raw[prev_end:lower_bound]\n",
    "    advertisement_audio_slices.append(before_name)\n",
    "    advertisement_audio_slices.append(\"NAME\")\n",
    "    prev_end = upper_bound\n",
    "\n",
    "advertisement_audio_slices.append(advertisement_audio_raw[prev_end + 100:])\n",
    "print(advertisement_audio_slices)\n"
   ]
  },
  {
   "cell_type": "markdown",
   "metadata": {},
   "source": [
    "Now we need to find all of the sub names for the advertisement audio"
   ]
  },
  {
   "cell_type": "code",
   "execution_count": 39,
   "metadata": {},
   "outputs": [
    {
     "name": "stdout",
     "output_type": "stream",
     "text": [
      "Transcription(text=\"I'm changing this to a word. And now a word from our sponsors. Carla, do you ever find yourself tired after a long day of class? Stop by today for a sweet treat. Thanks for listening, Carla. And now back to the podcast. And now a word from our sponsors. Joseph, do you ever find yourself tired after a long day of class? Stop by today for a sweet treat. Thanks for listening Joseph. And now back to the podcast. And now a word from our sponsors. Christopher, do you ever find yourself tired after a long day of class? Stop by today for a sweet treat. Thanks for listening, Christopher. Stop by today for a sweet treat. Thanks for live. God dammit. Stop by today for a sweet treat. Thanks for listening, Christopher. And now back to the podcast. And now a word from our sponsors. Manish, do you ever find yourself tired after a long day of class? Stop by today for a sweet treat. Thanks for listening, Manish. And now back to the podcast. And now a word from our sponsors. RB, do you ever find yourself tired after a long day of class? Stop by today for a sweet treat. Thanks for listening, RB. And now back to the podcast. And now a word from our sponsors. Dana, do you ever find yourself tired after a long day of class? Stop by today for a sweet treat. Thanks for listening, Dana. And now back to the podcast. And now a word from our sponsors. Elena, do you ever find yourself tired after a long day of class? Stop by today for a sweet treat. Thanks for listening, Elena. And now back to the podcast. And now a word from our sponsors. Mahira, do you ever find yourself tired after a long day of class? Stop by today for a sweet treat. Thanks for listening, Mahira. And now back to the podcast. Sarah, and now a word from our sponsors. Sarah, do you ever find yourself tired after a long day of class? Stop by today for a sweet treat. Thanks for listening, Sarah. And now back to the podcast. And now a word from our sponsors. Kashiki, do you ever find yourself tired after a long day of class? Stop by today for a sweet treat. Thanks for listening, Kashiki. And now back to the podcast. And now a word from our sponsors. Suchan, do you ever find yourself tired after a long day of class? Stop by today for a sweet treat. Thanks for listening, Suchan. And now back to the podcast.\", task='transcribe', language='english', duration=180.22000122070312, words=[{'word': \"I'm\", 'start': 6.139999866485596, 'end': 6.739999771118164}, {'word': 'changing', 'start': 6.739999771118164, 'end': 7.039999961853027}, {'word': 'this', 'start': 7.039999961853027, 'end': 7.340000152587891}, {'word': 'to', 'start': 7.340000152587891, 'end': 7.480000019073486}, {'word': 'a', 'start': 7.480000019073486, 'end': 10.239999771118164}, {'word': 'word', 'start': 10.239999771118164, 'end': 10.239999771118164}, {'word': 'And', 'start': 11.859999656677246, 'end': 11.859999656677246}, {'word': 'now', 'start': 11.859999656677246, 'end': 12.079999923706055}, {'word': 'a', 'start': 12.079999923706055, 'end': 12.239999771118164}, {'word': 'word', 'start': 12.239999771118164, 'end': 12.460000038146973}, {'word': 'from', 'start': 12.460000038146973, 'end': 12.65999984741211}, {'word': 'our', 'start': 12.65999984741211, 'end': 12.859999656677246}, {'word': 'sponsors', 'start': 12.859999656677246, 'end': 13.279999732971191}, {'word': 'Carla', 'start': 13.899999618530273, 'end': 13.899999618530273}, {'word': 'do', 'start': 14.260000228881836, 'end': 14.359999656677246}, {'word': 'you', 'start': 14.359999656677246, 'end': 14.5}, {'word': 'ever', 'start': 14.5, 'end': 14.65999984741211}, {'word': 'find', 'start': 14.65999984741211, 'end': 14.800000190734863}, {'word': 'yourself', 'start': 14.800000190734863, 'end': 15.15999984741211}, {'word': 'tired', 'start': 15.15999984741211, 'end': 15.600000381469727}, {'word': 'after', 'start': 15.600000381469727, 'end': 15.880000114440918}, {'word': 'a', 'start': 15.880000114440918, 'end': 16.100000381469727}, {'word': 'long', 'start': 16.100000381469727, 'end': 16.239999771118164}, {'word': 'day', 'start': 16.239999771118164, 'end': 16.3799991607666}, {'word': 'of', 'start': 16.3799991607666, 'end': 16.940000534057617}, {'word': 'class', 'start': 16.940000534057617, 'end': 16.940000534057617}, {'word': 'Stop', 'start': 17.979999542236328, 'end': 18.040000915527344}, {'word': 'by', 'start': 18.040000915527344, 'end': 18.399999618530273}, {'word': 'today', 'start': 18.399999618530273, 'end': 18.760000228881836}, {'word': 'for', 'start': 18.760000228881836, 'end': 18.979999542236328}, {'word': 'a', 'start': 18.979999542236328, 'end': 19.34000015258789}, {'word': 'sweet', 'start': 19.34000015258789, 'end': 19.579999923706055}, {'word': 'treat', 'start': 19.579999923706055, 'end': 19.959999084472656}, {'word': 'Thanks', 'start': 20.540000915527344, 'end': 20.540000915527344}, {'word': 'for', 'start': 20.540000915527344, 'end': 21.059999465942383}, {'word': 'listening', 'start': 21.059999465942383, 'end': 21.059999465942383}, {'word': 'Carla', 'start': 21.299999237060547, 'end': 21.299999237060547}, {'word': 'And', 'start': 21.399999618530273, 'end': 21.739999771118164}, {'word': 'now', 'start': 21.739999771118164, 'end': 22.020000457763672}, {'word': 'back', 'start': 22.020000457763672, 'end': 22.31999969482422}, {'word': 'to', 'start': 22.31999969482422, 'end': 22.479999542236328}, {'word': 'the', 'start': 22.479999542236328, 'end': 22.65999984741211}, {'word': 'podcast', 'start': 22.65999984741211, 'end': 23.079999923706055}, {'word': 'And', 'start': 25.520000457763672, 'end': 25.520000457763672}, {'word': 'now', 'start': 25.520000457763672, 'end': 25.719999313354492}, {'word': 'a', 'start': 25.719999313354492, 'end': 26.040000915527344}, {'word': 'word', 'start': 26.040000915527344, 'end': 26.040000915527344}, {'word': 'from', 'start': 26.040000915527344, 'end': 26.200000762939453}, {'word': 'our', 'start': 26.200000762939453, 'end': 26.84000015258789}, {'word': 'sponsors', 'start': 26.84000015258789, 'end': 26.84000015258789}, {'word': 'Joseph', 'start': 27.280000686645508, 'end': 27.799999237060547}, {'word': 'do', 'start': 28.040000915527344, 'end': 28.280000686645508}, {'word': 'you', 'start': 28.280000686645508, 'end': 28.420000076293945}, {'word': 'ever', 'start': 28.420000076293945, 'end': 28.68000030517578}, {'word': 'find', 'start': 28.68000030517578, 'end': 28.8799991607666}, {'word': 'yourself', 'start': 28.8799991607666, 'end': 29.280000686645508}, {'word': 'tired', 'start': 29.280000686645508, 'end': 29.780000686645508}, {'word': 'after', 'start': 29.780000686645508, 'end': 30.0}, {'word': 'a', 'start': 30.0, 'end': 30.219999313354492}, {'word': 'long', 'start': 30.219999313354492, 'end': 30.34000015258789}, {'word': 'day', 'start': 30.34000015258789, 'end': 30.479999542236328}, {'word': 'of', 'start': 30.479999542236328, 'end': 30.6200008392334}, {'word': 'class', 'start': 30.6200008392334, 'end': 30.979999542236328}, {'word': 'Stop', 'start': 32.29999923706055, 'end': 32.400001525878906}, {'word': 'by', 'start': 32.400001525878906, 'end': 32.65999984741211}, {'word': 'today', 'start': 32.65999984741211, 'end': 32.959999084472656}, {'word': 'for', 'start': 32.959999084472656, 'end': 33.18000030517578}, {'word': 'a', 'start': 33.18000030517578, 'end': 33.63999938964844}, {'word': 'sweet', 'start': 33.63999938964844, 'end': 33.63999938964844}, {'word': 'treat', 'start': 33.63999938964844, 'end': 34.040000915527344}, {'word': 'Thanks', 'start': 34.400001525878906, 'end': 34.47999954223633}, {'word': 'for', 'start': 34.47999954223633, 'end': 34.720001220703125}, {'word': 'listening', 'start': 34.720001220703125, 'end': 35.040000915527344}, {'word': 'Joseph', 'start': 35.040000915527344, 'end': 35.400001525878906}, {'word': 'And', 'start': 35.63999938964844, 'end': 35.70000076293945}, {'word': 'now', 'start': 35.70000076293945, 'end': 35.959999084472656}, {'word': 'back', 'start': 35.959999084472656, 'end': 36.13999938964844}, {'word': 'to', 'start': 36.13999938964844, 'end': 36.2599983215332}, {'word': 'the', 'start': 36.2599983215332, 'end': 36.400001525878906}, {'word': 'podcast', 'start': 36.400001525878906, 'end': 36.939998626708984}, {'word': 'And', 'start': 37.560001373291016, 'end': 38.619998931884766}, {'word': 'now', 'start': 38.619998931884766, 'end': 38.880001068115234}, {'word': 'a', 'start': 38.880001068115234, 'end': 39.29999923706055}, {'word': 'word', 'start': 39.29999923706055, 'end': 39.29999923706055}, {'word': 'from', 'start': 39.29999923706055, 'end': 39.47999954223633}, {'word': 'our', 'start': 39.47999954223633, 'end': 40.34000015258789}, {'word': 'sponsors', 'start': 40.34000015258789, 'end': 40.34000015258789}, {'word': 'Christopher', 'start': 40.97999954223633, 'end': 41.13999938964844}, {'word': 'do', 'start': 41.41999816894531, 'end': 41.65999984741211}, {'word': 'you', 'start': 41.65999984741211, 'end': 41.79999923706055}, {'word': 'ever', 'start': 41.79999923706055, 'end': 42.15999984741211}, {'word': 'find', 'start': 42.15999984741211, 'end': 42.400001525878906}, {'word': 'yourself', 'start': 42.400001525878906, 'end': 42.70000076293945}, {'word': 'tired', 'start': 42.70000076293945, 'end': 43.040000915527344}, {'word': 'after', 'start': 43.040000915527344, 'end': 43.2599983215332}, {'word': 'a', 'start': 43.2599983215332, 'end': 43.58000183105469}, {'word': 'long', 'start': 43.58000183105469, 'end': 43.58000183105469}, {'word': 'day', 'start': 43.58000183105469, 'end': 43.70000076293945}, {'word': 'of', 'start': 43.70000076293945, 'end': 44.20000076293945}, {'word': 'class', 'start': 44.20000076293945, 'end': 44.20000076293945}, {'word': 'Stop', 'start': 45.02000045776367, 'end': 45.02000045776367}, {'word': 'by', 'start': 45.02000045776367, 'end': 45.2599983215332}, {'word': 'today', 'start': 45.2599983215332, 'end': 45.459999084472656}, {'word': 'for', 'start': 45.459999084472656, 'end': 45.65999984741211}, {'word': 'a', 'start': 45.65999984741211, 'end': 45.97999954223633}, {'word': 'sweet', 'start': 45.97999954223633, 'end': 46.060001373291016}, {'word': 'treat', 'start': 46.060001373291016, 'end': 46.560001373291016}, {'word': 'Thanks', 'start': 46.86000061035156, 'end': 46.86000061035156}, {'word': 'for', 'start': 46.86000061035156, 'end': 47.040000915527344}, {'word': 'listening', 'start': 47.040000915527344, 'end': 47.400001525878906}, {'word': 'Christopher', 'start': 47.720001220703125, 'end': 47.720001220703125}, {'word': 'Stop', 'start': 48.599998474121094, 'end': 49.2400016784668}, {'word': 'by', 'start': 49.2400016784668, 'end': 49.47999954223633}, {'word': 'today', 'start': 49.47999954223633, 'end': 49.79999923706055}, {'word': 'for', 'start': 49.79999923706055, 'end': 49.91999816894531}, {'word': 'a', 'start': 49.91999816894531, 'end': 50.36000061035156}, {'word': 'sweet', 'start': 50.36000061035156, 'end': 50.36000061035156}, {'word': 'treat', 'start': 50.36000061035156, 'end': 50.65999984741211}, {'word': 'Thanks', 'start': 51.040000915527344, 'end': 51.099998474121094}, {'word': 'for', 'start': 51.099998474121094, 'end': 51.29999923706055}, {'word': 'live', 'start': 51.29999923706055, 'end': 51.47999954223633}, {'word': 'God', 'start': 51.70000076293945, 'end': 52.880001068115234}, {'word': 'dammit', 'start': 52.880001068115234, 'end': 53.060001373291016}, {'word': 'Stop', 'start': 54.18000030517578, 'end': 54.63999938964844}, {'word': 'by', 'start': 54.63999938964844, 'end': 55.02000045776367}, {'word': 'today', 'start': 55.02000045776367, 'end': 55.31999969482422}, {'word': 'for', 'start': 55.31999969482422, 'end': 55.560001373291016}, {'word': 'a', 'start': 55.560001373291016, 'end': 56.08000183105469}, {'word': 'sweet', 'start': 56.08000183105469, 'end': 56.08000183105469}, {'word': 'treat', 'start': 56.08000183105469, 'end': 56.380001068115234}, {'word': 'Thanks', 'start': 56.380001068115234, 'end': 56.91999816894531}, {'word': 'for', 'start': 56.91999816894531, 'end': 57.119998931884766}, {'word': 'listening', 'start': 57.119998931884766, 'end': 57.540000915527344}, {'word': 'Christopher', 'start': 58.15999984741211, 'end': 58.15999984741211}, {'word': 'And', 'start': 58.380001068115234, 'end': 58.5}, {'word': 'now', 'start': 58.5, 'end': 58.79999923706055}, {'word': 'back', 'start': 58.79999923706055, 'end': 59.02000045776367}, {'word': 'to', 'start': 59.02000045776367, 'end': 59.15999984741211}, {'word': 'the', 'start': 59.15999984741211, 'end': 59.279998779296875}, {'word': 'podcast', 'start': 59.279998779296875, 'end': 59.79999923706055}, {'word': 'And', 'start': 61.900001525878906, 'end': 61.939998626708984}, {'word': 'now', 'start': 61.939998626708984, 'end': 62.119998931884766}, {'word': 'a', 'start': 62.119998931884766, 'end': 62.400001525878906}, {'word': 'word', 'start': 62.400001525878906, 'end': 62.400001525878906}, {'word': 'from', 'start': 62.400001525878906, 'end': 62.560001373291016}, {'word': 'our', 'start': 62.560001373291016, 'end': 62.779998779296875}, {'word': 'sponsors', 'start': 62.779998779296875, 'end': 63.20000076293945}, {'word': 'Manish', 'start': 63.959999084472656, 'end': 64.04000091552734}, {'word': 'do', 'start': 64.37999725341797, 'end': 64.45999908447266}, {'word': 'you', 'start': 64.45999908447266, 'end': 64.5199966430664}, {'word': 'ever', 'start': 64.5199966430664, 'end': 64.72000122070312}, {'word': 'find', 'start': 64.72000122070312, 'end': 64.83999633789062}, {'word': 'yourself', 'start': 64.83999633789062, 'end': 65.18000030517578}, {'word': 'tired', 'start': 65.18000030517578, 'end': 65.5999984741211}, {'word': 'after', 'start': 65.5999984741211, 'end': 65.91999816894531}, {'word': 'a', 'start': 65.91999816894531, 'end': 66.26000213623047}, {'word': 'long', 'start': 66.26000213623047, 'end': 66.26000213623047}, {'word': 'day', 'start': 66.26000213623047, 'end': 66.37999725341797}, {'word': 'of', 'start': 66.37999725341797, 'end': 66.86000061035156}, {'word': 'class', 'start': 66.86000061035156, 'end': 66.86000061035156}, {'word': 'Stop', 'start': 68.0199966430664, 'end': 68.12000274658203}, {'word': 'by', 'start': 68.12000274658203, 'end': 68.41999816894531}, {'word': 'today', 'start': 68.41999816894531, 'end': 68.69999694824219}, {'word': 'for', 'start': 68.69999694824219, 'end': 68.9800033569336}, {'word': 'a', 'start': 68.9800033569336, 'end': 69.4800033569336}, {'word': 'sweet', 'start': 69.4800033569336, 'end': 69.58000183105469}, {'word': 'treat', 'start': 69.58000183105469, 'end': 70.0}, {'word': 'Thanks', 'start': 70.62000274658203, 'end': 70.66000366210938}, {'word': 'for', 'start': 70.66000366210938, 'end': 70.95999908447266}, {'word': 'listening', 'start': 70.95999908447266, 'end': 71.23999786376953}, {'word': 'Manish', 'start': 71.37999725341797, 'end': 71.63999938964844}, {'word': 'And', 'start': 71.95999908447266, 'end': 72.12000274658203}, {'word': 'now', 'start': 72.12000274658203, 'end': 72.5199966430664}, {'word': 'back', 'start': 72.5199966430664, 'end': 72.87999725341797}, {'word': 'to', 'start': 72.87999725341797, 'end': 73.04000091552734}, {'word': 'the', 'start': 73.04000091552734, 'end': 73.55999755859375}, {'word': 'podcast', 'start': 73.55999755859375, 'end': 73.55999755859375}, {'word': 'And', 'start': 74.4000015258789, 'end': 75.54000091552734}, {'word': 'now', 'start': 75.54000091552734, 'end': 75.72000122070312}, {'word': 'a', 'start': 75.72000122070312, 'end': 76.04000091552734}, {'word': 'word', 'start': 76.04000091552734, 'end': 76.04000091552734}, {'word': 'from', 'start': 76.04000091552734, 'end': 76.23999786376953}, {'word': 'our', 'start': 76.23999786376953, 'end': 76.76000213623047}, {'word': 'sponsors', 'start': 76.76000213623047, 'end': 77.19999694824219}, {'word': 'RB', 'start': 77.80000305175781, 'end': 78.05999755859375}, {'word': 'do', 'start': 78.44000244140625, 'end': 78.73999786376953}, {'word': 'you', 'start': 78.73999786376953, 'end': 78.77999877929688}, {'word': 'ever', 'start': 78.77999877929688, 'end': 78.9800033569336}, {'word': 'find', 'start': 78.9800033569336, 'end': 79.08000183105469}, {'word': 'yourself', 'start': 79.08000183105469, 'end': 79.37999725341797}, {'word': 'tired', 'start': 79.37999725341797, 'end': 79.80000305175781}, {'word': 'after', 'start': 79.80000305175781, 'end': 80.08000183105469}, {'word': 'a', 'start': 80.08000183105469, 'end': 80.44000244140625}, {'word': 'long', 'start': 80.44000244140625, 'end': 80.44000244140625}, {'word': 'day', 'start': 80.44000244140625, 'end': 80.58000183105469}, {'word': 'of', 'start': 80.58000183105469, 'end': 81.05999755859375}, {'word': 'class', 'start': 81.05999755859375, 'end': 81.05999755859375}, {'word': 'Stop', 'start': 82.5, 'end': 82.58000183105469}, {'word': 'by', 'start': 82.58000183105469, 'end': 82.95999908447266}, {'word': 'today', 'start': 82.95999908447266, 'end': 83.37999725341797}, {'word': 'for', 'start': 83.37999725341797, 'end': 83.77999877929688}, {'word': 'a', 'start': 83.77999877929688, 'end': 84.44000244140625}, {'word': 'sweet', 'start': 84.44000244140625, 'end': 84.54000091552734}, {'word': 'treat', 'start': 84.54000091552734, 'end': 85.0199966430664}, {'word': 'Thanks', 'start': 85.04000091552734, 'end': 85.62000274658203}, {'word': 'for', 'start': 85.62000274658203, 'end': 85.76000213623047}, {'word': 'listening', 'start': 85.76000213623047, 'end': 86.13999938964844}, {'word': 'RB', 'start': 86.23999786376953, 'end': 86.4800033569336}, {'word': 'And', 'start': 87.04000091552734, 'end': 87.12000274658203}, {'word': 'now', 'start': 87.12000274658203, 'end': 87.5199966430664}, {'word': 'back', 'start': 87.5199966430664, 'end': 87.73999786376953}, {'word': 'to', 'start': 87.73999786376953, 'end': 87.9000015258789}, {'word': 'the', 'start': 87.9000015258789, 'end': 88.0199966430664}, {'word': 'podcast', 'start': 88.0199966430664, 'end': 88.5199966430664}, {'word': 'And', 'start': 90.13999938964844, 'end': 90.19999694824219}, {'word': 'now', 'start': 90.19999694824219, 'end': 90.5}, {'word': 'a', 'start': 90.5, 'end': 90.9000015258789}, {'word': 'word', 'start': 90.9000015258789, 'end': 90.95999908447266}, {'word': 'from', 'start': 90.95999908447266, 'end': 91.13999938964844}, {'word': 'our', 'start': 91.13999938964844, 'end': 91.4000015258789}, {'word': 'sponsors', 'start': 91.4000015258789, 'end': 91.86000061035156}, {'word': 'Dana', 'start': 92.63999938964844, 'end': 92.95999908447266}, {'word': 'do', 'start': 93.36000061035156, 'end': 93.44000244140625}, {'word': 'you', 'start': 93.44000244140625, 'end': 93.5199966430664}, {'word': 'ever', 'start': 93.5199966430664, 'end': 93.81999969482422}, {'word': 'find', 'start': 93.81999969482422, 'end': 93.95999908447266}, {'word': 'yourself', 'start': 93.95999908447266, 'end': 94.33999633789062}, {'word': 'tired', 'start': 94.33999633789062, 'end': 94.77999877929688}, {'word': 'after', 'start': 94.77999877929688, 'end': 95.05999755859375}, {'word': 'a', 'start': 95.05999755859375, 'end': 95.72000122070312}, {'word': 'long', 'start': 95.72000122070312, 'end': 95.72000122070312}, {'word': 'day', 'start': 95.72000122070312, 'end': 95.9000015258789}, {'word': 'of', 'start': 95.9000015258789, 'end': 96.41999816894531}, {'word': 'class', 'start': 96.41999816894531, 'end': 96.41999816894531}, {'word': 'Stop', 'start': 97.83999633789062, 'end': 97.83999633789062}, {'word': 'by', 'start': 97.83999633789062, 'end': 98.16000366210938}, {'word': 'today', 'start': 98.16000366210938, 'end': 98.4800033569336}, {'word': 'for', 'start': 98.4800033569336, 'end': 98.72000122070312}, {'word': 'a', 'start': 98.72000122070312, 'end': 99.12000274658203}, {'word': 'sweet', 'start': 99.12000274658203, 'end': 99.26000213623047}, {'word': 'treat', 'start': 99.26000213623047, 'end': 99.55999755859375}, {'word': 'Thanks', 'start': 100.22000122070312, 'end': 100.23999786376953}, {'word': 'for', 'start': 100.23999786376953, 'end': 100.73999786376953}, {'word': 'listening', 'start': 100.73999786376953, 'end': 100.73999786376953}, {'word': 'Dana', 'start': 100.91999816894531, 'end': 101.0}, {'word': 'And', 'start': 101.22000122070312, 'end': 101.4800033569336}, {'word': 'now', 'start': 101.4800033569336, 'end': 101.77999877929688}, {'word': 'back', 'start': 101.77999877929688, 'end': 102.0}, {'word': 'to', 'start': 102.0, 'end': 102.16000366210938}, {'word': 'the', 'start': 102.16000366210938, 'end': 103.04000091552734}, {'word': 'podcast', 'start': 103.04000091552734, 'end': 103.12000274658203}, {'word': 'And', 'start': 103.9800033569336, 'end': 105.95999908447266}, {'word': 'now', 'start': 105.95999908447266, 'end': 106.0999984741211}, {'word': 'a', 'start': 106.0999984741211, 'end': 106.33999633789062}, {'word': 'word', 'start': 106.33999633789062, 'end': 106.33999633789062}, {'word': 'from', 'start': 106.33999633789062, 'end': 106.5}, {'word': 'our', 'start': 106.5, 'end': 107.0999984741211}, {'word': 'sponsors', 'start': 107.0999984741211, 'end': 107.0999984741211}, {'word': 'Elena', 'start': 107.45999908447266, 'end': 107.77999877929688}, {'word': 'do', 'start': 107.9000015258789, 'end': 108.13999938964844}, {'word': 'you', 'start': 108.13999938964844, 'end': 108.16000366210938}, {'word': 'ever', 'start': 108.16000366210938, 'end': 108.33999633789062}, {'word': 'find', 'start': 108.33999633789062, 'end': 108.5}, {'word': 'yourself', 'start': 108.5, 'end': 108.77999877929688}, {'word': 'tired', 'start': 108.77999877929688, 'end': 109.0999984741211}, {'word': 'after', 'start': 109.0999984741211, 'end': 109.33999633789062}, {'word': 'a', 'start': 109.33999633789062, 'end': 109.63999938964844}, {'word': 'long', 'start': 109.63999938964844, 'end': 109.63999938964844}, {'word': 'day', 'start': 109.63999938964844, 'end': 109.76000213623047}, {'word': 'of', 'start': 109.76000213623047, 'end': 110.18000030517578}, {'word': 'class', 'start': 110.18000030517578, 'end': 110.18000030517578}, {'word': 'Stop', 'start': 111.22000122070312, 'end': 111.33999633789062}, {'word': 'by', 'start': 111.33999633789062, 'end': 111.69999694824219}, {'word': 'today', 'start': 111.69999694824219, 'end': 112.0}, {'word': 'for', 'start': 112.0, 'end': 112.23999786376953}, {'word': 'a', 'start': 112.23999786376953, 'end': 112.76000213623047}, {'word': 'sweet', 'start': 112.76000213623047, 'end': 112.94000244140625}, {'word': 'treat', 'start': 112.94000244140625, 'end': 113.30000305175781}, {'word': 'Thanks', 'start': 113.4800033569336, 'end': 114.08000183105469}, {'word': 'for', 'start': 114.08000183105469, 'end': 114.19999694824219}, {'word': 'listening', 'start': 114.19999694824219, 'end': 114.54000091552734}, {'word': 'Elena', 'start': 114.86000061035156, 'end': 114.86000061035156}, {'word': 'And', 'start': 115.04000091552734, 'end': 115.16000366210938}, {'word': 'now', 'start': 115.16000366210938, 'end': 115.37999725341797}, {'word': 'back', 'start': 115.37999725341797, 'end': 115.62000274658203}, {'word': 'to', 'start': 115.62000274658203, 'end': 115.76000213623047}, {'word': 'the', 'start': 115.76000213623047, 'end': 115.86000061035156}, {'word': 'podcast', 'start': 115.86000061035156, 'end': 116.4000015258789}, {'word': 'And', 'start': 118.4000015258789, 'end': 118.4000015258789}, {'word': 'now', 'start': 118.4000015258789, 'end': 118.72000122070312}, {'word': 'a', 'start': 118.72000122070312, 'end': 119.19999694824219}, {'word': 'word', 'start': 119.19999694824219, 'end': 119.33999633789062}, {'word': 'from', 'start': 119.33999633789062, 'end': 119.54000091552734}, {'word': 'our', 'start': 119.54000091552734, 'end': 119.83999633789062}, {'word': 'sponsors', 'start': 119.83999633789062, 'end': 120.23999786376953}, {'word': 'Mahira', 'start': 120.91999816894531, 'end': 121.22000122070312}, {'word': 'do', 'start': 121.63999938964844, 'end': 121.72000122070312}, {'word': 'you', 'start': 121.72000122070312, 'end': 121.77999877929688}, {'word': 'ever', 'start': 121.77999877929688, 'end': 121.95999908447266}, {'word': 'find', 'start': 121.95999908447266, 'end': 122.12000274658203}, {'word': 'yourself', 'start': 122.12000274658203, 'end': 122.41999816894531}, {'word': 'tired', 'start': 122.41999816894531, 'end': 122.72000122070312}, {'word': 'after', 'start': 122.72000122070312, 'end': 122.91999816894531}, {'word': 'a', 'start': 122.91999816894531, 'end': 123.22000122070312}, {'word': 'long', 'start': 123.22000122070312, 'end': 123.22000122070312}, {'word': 'day', 'start': 123.22000122070312, 'end': 123.33999633789062}, {'word': 'of', 'start': 123.33999633789062, 'end': 123.69999694824219}, {'word': 'class', 'start': 123.69999694824219, 'end': 123.76000213623047}, {'word': 'Stop', 'start': 125.05999755859375, 'end': 125.16000366210938}, {'word': 'by', 'start': 125.16000366210938, 'end': 125.4000015258789}, {'word': 'today', 'start': 125.4000015258789, 'end': 125.69999694824219}, {'word': 'for', 'start': 125.69999694824219, 'end': 125.94000244140625}, {'word': 'a', 'start': 125.94000244140625, 'end': 126.33999633789062}, {'word': 'sweet', 'start': 126.33999633789062, 'end': 126.33999633789062}, {'word': 'treat', 'start': 126.33999633789062, 'end': 126.66000366210938}, {'word': 'Thanks', 'start': 127.22000122070312, 'end': 127.23999786376953}, {'word': 'for', 'start': 127.23999786376953, 'end': 127.45999908447266}, {'word': 'listening', 'start': 127.45999908447266, 'end': 127.81999969482422}, {'word': 'Mahira', 'start': 127.87999725341797, 'end': 128.1999969482422}, {'word': 'And', 'start': 128.4600067138672, 'end': 128.5800018310547}, {'word': 'now', 'start': 128.5800018310547, 'end': 128.89999389648438}, {'word': 'back', 'start': 128.89999389648438, 'end': 129.16000366210938}, {'word': 'to', 'start': 129.16000366210938, 'end': 129.33999633789062}, {'word': 'the', 'start': 129.33999633789062, 'end': 130.1999969482422}, {'word': 'podcast', 'start': 130.1999969482422, 'end': 130.1999969482422}, {'word': 'Sarah', 'start': 132.13999938964844, 'end': 132.47999572753906}, {'word': 'and', 'start': 134.5800018310547, 'end': 135.10000610351562}, {'word': 'now', 'start': 135.10000610351562, 'end': 135.32000732421875}, {'word': 'a', 'start': 135.32000732421875, 'end': 135.74000549316406}, {'word': 'word', 'start': 135.74000549316406, 'end': 135.74000549316406}, {'word': 'from', 'start': 135.74000549316406, 'end': 135.9199981689453}, {'word': 'our', 'start': 135.9199981689453, 'end': 136.5800018310547}, {'word': 'sponsors', 'start': 136.5800018310547, 'end': 136.5800018310547}, {'word': 'Sarah', 'start': 137.55999755859375, 'end': 137.60000610351562}, {'word': 'do', 'start': 137.6999969482422, 'end': 138.10000610351562}, {'word': 'you', 'start': 138.10000610351562, 'end': 138.17999267578125}, {'word': 'ever', 'start': 138.17999267578125, 'end': 138.36000061035156}, {'word': 'find', 'start': 138.36000061035156, 'end': 138.5}, {'word': 'yourself', 'start': 138.5, 'end': 138.82000732421875}, {'word': 'tired', 'start': 138.82000732421875, 'end': 139.1999969482422}, {'word': 'after', 'start': 139.1999969482422, 'end': 139.47999572753906}, {'word': 'a', 'start': 139.47999572753906, 'end': 139.8000030517578}, {'word': 'long', 'start': 139.8000030517578, 'end': 139.8000030517578}, {'word': 'day', 'start': 139.8000030517578, 'end': 139.94000244140625}, {'word': 'of', 'start': 139.94000244140625, 'end': 140.1199951171875}, {'word': 'class', 'start': 140.1199951171875, 'end': 140.4199981689453}, {'word': 'Stop', 'start': 141.4199981689453, 'end': 141.97999572753906}, {'word': 'by', 'start': 141.97999572753906, 'end': 142.3000030517578}, {'word': 'today', 'start': 142.3000030517578, 'end': 142.55999755859375}, {'word': 'for', 'start': 142.55999755859375, 'end': 142.75999450683594}, {'word': 'a', 'start': 142.75999450683594, 'end': 143.0399932861328}, {'word': 'sweet', 'start': 143.0399932861328, 'end': 143.25999450683594}, {'word': 'treat', 'start': 143.25999450683594, 'end': 143.63999938964844}, {'word': 'Thanks', 'start': 144.4199981689453, 'end': 144.52000427246094}, {'word': 'for', 'start': 144.52000427246094, 'end': 144.8000030517578}, {'word': 'listening', 'start': 144.8000030517578, 'end': 145.24000549316406}, {'word': 'Sarah', 'start': 145.4600067138672, 'end': 145.6199951171875}, {'word': 'And', 'start': 146.0399932861328, 'end': 146.13999938964844}, {'word': 'now', 'start': 146.13999938964844, 'end': 146.4199981689453}, {'word': 'back', 'start': 146.4199981689453, 'end': 146.77999877929688}, {'word': 'to', 'start': 146.77999877929688, 'end': 146.9199981689453}, {'word': 'the', 'start': 146.9199981689453, 'end': 147.0399932861328}, {'word': 'podcast', 'start': 147.0399932861328, 'end': 147.5399932861328}, {'word': 'And', 'start': 150.4199981689453, 'end': 150.4600067138672}, {'word': 'now', 'start': 150.4600067138672, 'end': 150.6999969482422}, {'word': 'a', 'start': 150.6999969482422, 'end': 151.02000427246094}, {'word': 'word', 'start': 151.02000427246094, 'end': 151.02000427246094}, {'word': 'from', 'start': 151.02000427246094, 'end': 151.17999267578125}, {'word': 'our', 'start': 151.17999267578125, 'end': 151.39999389648438}, {'word': 'sponsors', 'start': 151.39999389648438, 'end': 151.72000122070312}, {'word': 'Kashiki', 'start': 152.22000122070312, 'end': 152.4199981689453}, {'word': 'do', 'start': 152.77999877929688, 'end': 152.97999572753906}, {'word': 'you', 'start': 152.97999572753906, 'end': 153.0800018310547}, {'word': 'ever', 'start': 153.0800018310547, 'end': 153.3000030517578}, {'word': 'find', 'start': 153.3000030517578, 'end': 153.4600067138672}, {'word': 'yourself', 'start': 153.4600067138672, 'end': 153.82000732421875}, {'word': 'tired', 'start': 153.82000732421875, 'end': 154.25999450683594}, {'word': 'after', 'start': 154.25999450683594, 'end': 154.60000610351562}, {'word': 'a', 'start': 154.60000610351562, 'end': 154.94000244140625}, {'word': 'long', 'start': 154.94000244140625, 'end': 154.94000244140625}, {'word': 'day', 'start': 154.94000244140625, 'end': 155.05999755859375}, {'word': 'of', 'start': 155.05999755859375, 'end': 155.52000427246094}, {'word': 'class', 'start': 155.52000427246094, 'end': 155.52000427246094}, {'word': 'Stop', 'start': 156.55999755859375, 'end': 156.60000610351562}, {'word': 'by', 'start': 156.60000610351562, 'end': 156.86000061035156}, {'word': 'today', 'start': 156.86000061035156, 'end': 157.0800018310547}, {'word': 'for', 'start': 157.0800018310547, 'end': 157.27999877929688}, {'word': 'a', 'start': 157.27999877929688, 'end': 157.67999267578125}, {'word': 'sweet', 'start': 157.67999267578125, 'end': 157.67999267578125}, {'word': 'treat', 'start': 157.67999267578125, 'end': 157.9199981689453}, {'word': 'Thanks', 'start': 158.82000732421875, 'end': 158.82000732421875}, {'word': 'for', 'start': 158.82000732421875, 'end': 159.33999633789062}, {'word': 'listening', 'start': 159.33999633789062, 'end': 159.33999633789062}, {'word': 'Kashiki', 'start': 159.39999389648438, 'end': 159.75999450683594}, {'word': 'And', 'start': 159.94000244140625, 'end': 160.10000610351562}, {'word': 'now', 'start': 160.10000610351562, 'end': 160.33999633789062}, {'word': 'back', 'start': 160.33999633789062, 'end': 160.5399932861328}, {'word': 'to', 'start': 160.5399932861328, 'end': 160.6999969482422}, {'word': 'the', 'start': 160.6999969482422, 'end': 161.27999877929688}, {'word': 'podcast', 'start': 161.27999877929688, 'end': 161.27999877929688}, {'word': 'And', 'start': 162.39999389648438, 'end': 163.83999633789062}, {'word': 'now', 'start': 163.83999633789062, 'end': 164.17999267578125}, {'word': 'a', 'start': 164.17999267578125, 'end': 164.66000366210938}, {'word': 'word', 'start': 164.66000366210938, 'end': 164.66000366210938}, {'word': 'from', 'start': 164.66000366210938, 'end': 164.82000732421875}, {'word': 'our', 'start': 164.82000732421875, 'end': 165.5399932861328}, {'word': 'sponsors', 'start': 165.5399932861328, 'end': 165.5399932861328}, {'word': 'Suchan', 'start': 166.24000549316406, 'end': 166.36000061035156}, {'word': 'do', 'start': 166.67999267578125, 'end': 166.86000061035156}, {'word': 'you', 'start': 166.86000061035156, 'end': 166.89999389648438}, {'word': 'ever', 'start': 166.89999389648438, 'end': 167.1199951171875}, {'word': 'find', 'start': 167.1199951171875, 'end': 167.24000549316406}, {'word': 'yourself', 'start': 167.24000549316406, 'end': 167.5800018310547}, {'word': 'tired', 'start': 167.5800018310547, 'end': 167.97999572753906}, {'word': 'after', 'start': 167.97999572753906, 'end': 168.24000549316406}, {'word': 'a', 'start': 168.24000549316406, 'end': 168.63999938964844}, {'word': 'long', 'start': 168.63999938964844, 'end': 168.63999938964844}, {'word': 'day', 'start': 168.63999938964844, 'end': 168.77999877929688}, {'word': 'of', 'start': 168.77999877929688, 'end': 169.27999877929688}, {'word': 'class', 'start': 169.27999877929688, 'end': 169.27999877929688}, {'word': 'Stop', 'start': 169.67999267578125, 'end': 170.39999389648438}, {'word': 'by', 'start': 170.39999389648438, 'end': 170.75999450683594}, {'word': 'today', 'start': 170.75999450683594, 'end': 171.17999267578125}, {'word': 'for', 'start': 171.17999267578125, 'end': 171.39999389648438}, {'word': 'a', 'start': 171.39999389648438, 'end': 171.75999450683594}, {'word': 'sweet', 'start': 171.75999450683594, 'end': 171.9199981689453}, {'word': 'treat', 'start': 171.9199981689453, 'end': 172.27999877929688}, {'word': 'Thanks', 'start': 172.8000030517578, 'end': 172.8000030517578}, {'word': 'for', 'start': 172.8000030517578, 'end': 173.3000030517578}, {'word': 'listening', 'start': 173.3000030517578, 'end': 173.3000030517578}, {'word': 'Suchan', 'start': 173.6999969482422, 'end': 173.6999969482422}, {'word': 'And', 'start': 174.1199951171875, 'end': 174.27999877929688}, {'word': 'now', 'start': 174.27999877929688, 'end': 174.63999938964844}, {'word': 'back', 'start': 174.63999938964844, 'end': 174.86000061035156}, {'word': 'to', 'start': 174.86000061035156, 'end': 175.0}, {'word': 'the', 'start': 175.0, 'end': 175.24000549316406}, {'word': 'podcast', 'start': 175.24000549316406, 'end': 175.60000610351562}])\n"
     ]
    }
   ],
   "source": [
    "audio_file_advertisement_names = open(\"advertisement_names.wav\", \"rb\")\n",
    "advertisement_names_transcript = client.audio.transcriptions.create(\n",
    "  file=audio_file_advertisement_names,\n",
    "  model=\"whisper-1\",\n",
    "  response_format=\"verbose_json\",\n",
    "  timestamp_granularities=[\"word\"]\n",
    ")\n",
    "\n",
    "print(advertisement_names_transcript)\n",
    "advertisement_audio_names_raw = AudioSegment.from_wav(\"advertisement_names.wav\")"
   ]
  },
  {
   "cell_type": "code",
   "execution_count": 10,
   "metadata": {},
   "outputs": [],
   "source": [
    "advertisement_name_times = {\"carla\": [], \"joseph\": [], \"christopher\": [], \"r.b.\": [], \"mahira\": []}\n",
    "\n",
    "sub_names = set(advertisement_name_times.keys())\n",
    "# sub_names.add(\"carla\")\n",
    "\n",
    "\n",
    "\n",
    "for word in advertisement_names_transcript.words: \n",
    "    if str.lower(word[\"word\"]) in sub_names:\n",
    "        lower_name = str.lower(word[\"word\"]) \n",
    "        # print(advertisement_name_subs[lower_name])\n",
    "        \n",
    "        advertisement_name_times[lower_name].append([word[\"start\"] * 1000, word[\"end\"] * 1000])\n",
    "        # advertisement_times_to_replace.append([word[\"start\"] * 1000, word[\"end\"] * 1000])\n",
    "        \n",
    "# print(advertisement_name_times)\n",
    "\n"
   ]
  },
  {
   "cell_type": "code",
   "execution_count": 40,
   "metadata": {},
   "outputs": [
    {
     "name": "stdout",
     "output_type": "stream",
     "text": [
      "{'carla': [[13899.999618530273, 13899.999618530273], [21299.999237060547, 21299.999237060547]], 'joseph': [[27080.000686645508, 28399.999237060547], [34840.0016784668, 35419.99816894531]], 'christopher': [[40379.99954223633, 41719.998931884766], [57339.998626708984, 58459.99984741211]], 'r.b.': [], 'mahira': [[120959.99908447266, 121220.00122070312], [127879.99725341797, 128199.99694824219]]}\n"
     ]
    }
   ],
   "source": [
    "advertisement_name_times = {\"carla\": [], \"joseph\": [], \"christopher\": [], \"manish\": [], \"mahira\": []}\n",
    "\n",
    "sub_names = set(advertisement_name_times.keys())\n",
    "\n",
    "# sub_names.add(\"carla\")\n",
    "temp = []\n",
    "\n",
    "for word in advertisement_names_transcript.words:\n",
    "    \n",
    "    if str.lower(word[\"word\"]) in sub_names:\n",
    "        lower_name = str.lower(word[\"word\"])\n",
    "        \n",
    "        \n",
    "        # print(advertisement_name_subs[lower_name])\n",
    "        \n",
    "        advertisement_name_times[lower_name].append([word[\"start\"] * 1000, word[\"end\"] * 1000])\n",
    "        # advertisement_times_to_replace.append([word[\"start\"] * 1000, word[\"end\"] * 1000])\n",
    "\n",
    "\n",
    "\n",
    "advertisement_name_audio_slices = {\"carla\": [], \"joseph\": [], \"christopher\": [], \"manish\": [], \"mahira\": []}\n",
    "advertisement_name_times = {'carla': [[13899.999618530273, 13899.999618530273], [21299.999237060547, 21299.999237060547]], 'joseph': [[27180.000686645508, 28099.999237060547], [35040.0016784668, 35419.99816894531]], 'christopher': [[40679.99954223633, 41419.998931884766], [57639.998626708984, 58309.99984741211]], 'r.b.': [], 'mahira': [[120959.99908447266, 121220.00122070312], [127879.99725341797, 128199.99694824219]]}\n",
    "\n",
    "\n",
    "# advertisement_name_times[\"christopher\"].pop(1)\n",
    "\n",
    "advertisement_name_times[\"christopher\"][0][0] -= 300\n",
    "advertisement_name_times[\"christopher\"][0][1] += 300\n",
    "\n",
    "advertisement_name_times[\"christopher\"][1][0] -= 300\n",
    "advertisement_name_times[\"christopher\"][1][1] += 150\n",
    "\n",
    "advertisement_name_times[\"joseph\"][0][0] -= 100\n",
    "advertisement_name_times[\"joseph\"][0][1] += 300\n",
    "advertisement_name_times[\"joseph\"][1][0] -= 200\n",
    "# advertisement_name_times[\"joseph\"][1][1] += 300\n",
    "\n",
    "\n",
    "print(advertisement_name_times)\n",
    "# advertisement_name_times[\"r.b.\"][0][0] -= 400\n",
    "# advertisement_name_times[\"r.b.\"][0][1] += 300\n",
    "\n",
    "# advertisement_name_times[\"r.b.\"][1][0] -= 75\n",
    "# advertisement_name_times[\"r.b.\"][1][1] += 150\n",
    "\n",
    "advertisement_name_times[\"mahira\"][0][0] -= 400\n",
    "advertisement_name_times[\"mahira\"][0][1] += 300\n",
    "\n",
    "advertisement_name_times[\"mahira\"][1][0] -= 75\n",
    "advertisement_name_times[\"mahira\"][1][1] += 150\n",
    "\n",
    "# advertisement_name_times[\"manish\"][0][0] -= 400\n",
    "# advertisement_name_times[\"manish\"][0][1] += 300\n",
    "\n",
    "# advertisement_name_times[\"manish\"][1][0] -= 75\n",
    "# advertisement_name_times[\"manish\"][1][1] += 150\n",
    "\n",
    "\n",
    "# SOURCE OF TRUTH \n",
    "advertisement_name_times = {'carla': [[13899.999618530273, 13899.999618530273], [21299.999237060547, 21299.999237060547]], 'joseph': [[27180.000686645508, 28199.999237060547], [34840.0016784668, 35419.99816894531]], 'christopher': [[40379.99954223633, 41519.998931884766], [57639.998626708984, 58259.99984741211]], 'r.b.': [], 'mahira': [[120959.99908447266, 121220.00122070312], [127879.99725341797, 128199.99694824219]], 'manish': [[63559.999084472656, 64340.000915527344], [71179.99725341797, 71789.99938964844]]}\n",
    "\n",
    "# good: joseph\n",
    "\n",
    "for name in advertisement_name_times.keys(): \n",
    "    times = advertisement_name_times[name]\n",
    "\n",
    "    for i in range(len(times)):\n",
    "        time = times[i] \n",
    "        lower_bound = time[0]\n",
    "        upper_bound = time[1]\n",
    "        \n",
    "        cur_slice = advertisement_audio_names_raw[lower_bound:upper_bound]\n",
    "        advertisement_name_audio_slices[name].append(cur_slice)\n",
    "\n",
    "play(advertisement_name_audio_slices[\"manish\"][1])\n",
    "\n",
    "# IN CASE CELLS ABOVE RE RUN\n",
    "# advertisement_times_to_replace = [[40979.99954223633, 41119.998931884766], [47479.99954223633, 47740.0016784668], [57939.998626708984, 58159.99984741211]]\n",
    "\n"
   ]
  },
  {
   "cell_type": "markdown",
   "metadata": {},
   "source": [
    "Add them together given input"
   ]
  },
  {
   "cell_type": "code",
   "execution_count": 41,
   "metadata": {},
   "outputs": [],
   "source": [
    "user_input = input(\"Type the name you'd like to insert. Your options are: Christopher, Joseph, Mahira, Maneesh\")\n",
    "name = str.lower(user_input)\n",
    "if name == \"maneesh\": \n",
    "    name = \"manish\"\n",
    "\n",
    "# assume chosen the advertisement story\n",
    "audio_arr = advertisement_audio_slices\n",
    "name_arr = advertisement_name_audio_slices[name]\n",
    "\n",
    "final_audio = audio_arr[0]\n",
    "next_name_idx = 0\n",
    "# print(audio_arr)\n",
    "for i in range(1, len(audio_arr)): \n",
    "    if audio_arr[i] == \"NAME\": \n",
    "        \n",
    "        final_audio += name_arr[next_name_idx]\n",
    "        next_name_idx += 1\n",
    "\n",
    "    else: \n",
    "        final_audio += audio_arr[i]\n",
    "\n",
    "play(final_audio)\n",
    "\n",
    "\n",
    "\n"
   ]
  },
  {
   "cell_type": "markdown",
   "metadata": {},
   "source": [
    "Now let's move onto the audio story."
   ]
  },
  {
   "cell_type": "code",
   "execution_count": 43,
   "metadata": {},
   "outputs": [],
   "source": [
    "audio_file_story = open(\"story_steve.wav\", \"rb\")\n",
    "\n",
    "# script1 = open(\"script1_steve.m4a\", \"rb\")\n",
    "story_transcript = client.audio.transcriptions.create(\n",
    "  file=audio_file_story,\n",
    "  model=\"whisper-1\",\n",
    "  response_format=\"verbose_json\",\n",
    "  timestamp_granularities=[\"word\"]\n",
    ")\n"
   ]
  },
  {
   "cell_type": "code",
   "execution_count": 44,
   "metadata": {},
   "outputs": [
    {
     "name": "stdout",
     "output_type": "stream",
     "text": [
      "[[8600.000381469727, 8819.999694824219], [16959.999084472656, 17219.999313354492]]\n",
      "[[8500.000381469727, 8844.999694824219], [16899.999084472656, 17244.999313354492]]\n"
     ]
    }
   ],
   "source": [
    "SAMPLE_NAME = \"Steve\"\n",
    "\n",
    "story_times_to_replace = []\n",
    "\n",
    "for word in story_transcript.words: \n",
    "    if str.lower(word[\"word\"]) == str.lower(SAMPLE_NAME): \n",
    "        story_times_to_replace.append([word[\"start\"] * 1000, word[\"end\"] * 1000])\n",
    "\n",
    "\n",
    "print(story_times_to_replace)\n",
    "story_times_to_replace[0][0] -= 100\n",
    "story_times_to_replace[0][1] += 25 \n",
    "\n",
    "story_times_to_replace[1][0] -= 60\n",
    "story_times_to_replace[1][1] += 25 \n",
    "print(story_times_to_replace)\n",
    "\n",
    "\n",
    "\n",
    "story_audio_raw = AudioSegment.from_wav(\"story_steve.wav\")\n",
    "# play(song)"
   ]
  },
  {
   "cell_type": "code",
   "execution_count": 45,
   "metadata": {},
   "outputs": [
    {
     "name": "stdout",
     "output_type": "stream",
     "text": [
      "[[8390.000381469727, 8894.999694824219], [16599.999084472656, 17344.999313354492]]\n",
      "[<pydub.audio_segment.AudioSegment object at 0x7fd1a8095c40>, 'NAME', <pydub.audio_segment.AudioSegment object at 0x7fd1a8095c70>, 'NAME', <pydub.audio_segment.AudioSegment object at 0x7fd1e913a6a0>]\n"
     ]
    }
   ],
   "source": [
    "# play(advertisement_audio_raw)\n",
    "\n",
    "story_audio_slices = []\n",
    "\n",
    "audio_left = story_audio_raw\n",
    "\n",
    "prev_end = 0 # where the last one left off \n",
    "# print(story_times_to_replace)\n",
    "story_times_to_replace = [[8390.000381469727, 8894.999694824219], [16599.999084472656, 17344.999313354492]]\n",
    "\n",
    "\n",
    "\n",
    "print(story_times_to_replace)\n",
    "\n",
    "\n",
    "for times in story_times_to_replace:\n",
    "    lower_bound = times[0]\n",
    "    upper_bound = times[1]\n",
    "\n",
    "    before_name = story_audio_raw[prev_end:lower_bound]\n",
    "    story_audio_slices.append(before_name)\n",
    "    story_audio_slices.append(\"NAME\")\n",
    "    prev_end = upper_bound\n",
    "\n",
    "story_audio_slices.append(story_audio_raw[prev_end:])\n",
    "print(story_audio_slices)\n",
    "# play(story_audio_slices[4])"
   ]
  },
  {
   "cell_type": "code",
   "execution_count": 46,
   "metadata": {},
   "outputs": [],
   "source": [
    "audio_file_story_names = open(\"story_names.wav\", \"rb\")\n",
    "story_names_transcript = client.audio.transcriptions.create(\n",
    "  file=audio_file_story_names,\n",
    "  model=\"whisper-1\",\n",
    "  response_format=\"verbose_json\",\n",
    "  timestamp_granularities=[\"word\"]\n",
    ")\n",
    "story_audio_names_raw = AudioSegment.from_wav(\"story_names.wav\")"
   ]
  },
  {
   "cell_type": "code",
   "execution_count": 32,
   "metadata": {},
   "outputs": [
    {
     "name": "stdout",
     "output_type": "stream",
     "text": [
      "{'carla': [[5209.999847412109, 6010.000133514404], [10659.99984741211, 11620.000076293945]], 'joseph': [[17800.9993133545, 18620.000457763672], [23500.000228881836, 24560.000228881836]], 'manish': [[53419.99816894531, 54540.0016784668], [58580.00030517578, 59760.001373291016]], 'mahira': [[117279.99877929688, 118259.99755859375], [121875.99694824219, 122700.00091552734]]}\n"
     ]
    }
   ],
   "source": [
    "story_name_times = {\"carla\": [], \"joseph\": [], \"manish\": [], \"mahira\": []}\n",
    "\n",
    "sub_names = set(story_name_times.keys())\n",
    "\n",
    "\n",
    "for word in story_names_transcript.words:\n",
    "    \n",
    "    if str.lower(word[\"word\"]) in sub_names:\n",
    "        lower_name = str.lower(word[\"word\"])        \n",
    "        story_name_times[lower_name].append([word[\"start\"] * 1000, word[\"end\"] * 1000])\n",
    "\n",
    "\n",
    "story_name_audio_slices = {\"carla\": [], \"joseph\": [], \"manish\": [], \"mahira\": []}\n",
    "\n",
    "\n",
    "\n",
    "\n",
    "# SOURCE OF TRUTH \n",
    "story_name_times = {'carla': [[5209.999847412109, 6010.000133514404], [10659.99984741211, 11620.000076293945]], 'joseph': [[17800.9993133545, 18620.000457763672], [23500.000228881836, 24560.000228881836]], 'manish': [[53419.99816894531, 54540.0016784668], [58580.00030517578, 59760.001373291016]], 'mahira': [[117279.99877929688, 118259.99755859375], [121875.99694824219, 122700.00091552734]]}\n",
    "\n",
    "\n",
    "for name in story_name_times.keys(): \n",
    "    times = story_name_times[name]\n",
    "\n",
    "    for i in range(len(times)):\n",
    "        time = times[i] \n",
    "        lower_bound = time[0]\n",
    "        upper_bound = time[1]\n",
    "        \n",
    "        cur_slice = story_audio_names_raw[lower_bound:upper_bound]\n",
    "        story_name_audio_slices[name].append(cur_slice)\n",
    "\n",
    "# IN CASE CELLS ABOVE RE RUN\n",
    "\n",
    "play(story_name_audio_slices[\"mahira\"][1])\n"
   ]
  },
  {
   "cell_type": "code",
   "execution_count": 34,
   "metadata": {},
   "outputs": [],
   "source": [
    "user_input = input(\"Type the name you'd like to insert. Your options are: Carla, Joseph, Mahira, Maneesh\")\n",
    "name = str.lower(user_input)\n",
    "if name == \"maneesh\": \n",
    "    name = \"manish\"\n",
    "\n",
    "# assume chosen the advertisement story\n",
    "audio_arr = story_audio_slices\n",
    "name_arr = story_name_audio_slices[name]\n",
    "\n",
    "final_audio = audio_arr[0]\n",
    "next_name_idx = 0\n",
    "# print(audio_arr)\n",
    "for i in range(1, len(audio_arr)): \n",
    "    if audio_arr[i] == \"NAME\": \n",
    "        \n",
    "        final_audio += name_arr[next_name_idx]\n",
    "        next_name_idx += 1\n",
    "\n",
    "    else: \n",
    "        final_audio += audio_arr[i]\n",
    "\n",
    "play(final_audio)\n"
   ]
  }
 ],
 "metadata": {
  "kernelspec": {
   "display_name": "Python 3",
   "language": "python",
   "name": "python3"
  },
  "language_info": {
   "codemirror_mode": {
    "name": "ipython",
    "version": 3
   },
   "file_extension": ".py",
   "mimetype": "text/x-python",
   "name": "python",
   "nbconvert_exporter": "python",
   "pygments_lexer": "ipython3",
   "version": "3.8.8"
  }
 },
 "nbformat": 4,
 "nbformat_minor": 2
}
